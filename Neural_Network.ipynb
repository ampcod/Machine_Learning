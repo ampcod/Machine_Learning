{
  "nbformat": 4,
  "nbformat_minor": 0,
  "metadata": {
    "colab": {
      "provenance": [],
      "authorship_tag": "ABX9TyNVM0W2FhwKsBY75pZu00kd",
      "include_colab_link": true
    },
    "kernelspec": {
      "name": "python3",
      "display_name": "Python 3"
    },
    "language_info": {
      "name": "python"
    }
  },
  "cells": [
    {
      "cell_type": "markdown",
      "metadata": {
        "id": "view-in-github",
        "colab_type": "text"
      },
      "source": [
        "<a href=\"https://colab.research.google.com/github/ampcod/Machine_Learning/blob/main/Neural_Network.ipynb\" target=\"_parent\"><img src=\"https://colab.research.google.com/assets/colab-badge.svg\" alt=\"Open In Colab\"/></a>"
      ]
    },
    {
      "cell_type": "code",
      "execution_count": null,
      "metadata": {
        "id": "SDpbUEzy-3Zf"
      },
      "outputs": [],
      "source": [
        "import tensorflow as tf"
      ]
    },
    {
      "cell_type": "markdown",
      "source": [],
      "metadata": {
        "id": "K9D6Hfy-_ON3"
      }
    },
    {
      "cell_type": "code",
      "source": [
        "import numpy as np\n",
        "import matplotlib.pyplot as plt\n",
        "\n",
        "X=np.array([-7.0,-4.0,-1.0,2.0,5.0,8.0,11.0,14.0])\n",
        "y=np.array([3.0,6.0,9.0,12.0,15.0,18.0,21.0,24.0])\n",
        "\n",
        "plt.scatter(X,y)"
      ],
      "metadata": {
        "colab": {
          "base_uri": "https://localhost:8080/",
          "height": 453
        },
        "id": "u9pQgB0s_biw",
        "outputId": "f31c29cb-c658-410a-8249-5b015bc08ed3"
      },
      "execution_count": null,
      "outputs": [
        {
          "output_type": "execute_result",
          "data": {
            "text/plain": [
              "<matplotlib.collections.PathCollection at 0x7826c89e1210>"
            ]
          },
          "metadata": {},
          "execution_count": 3
        },
        {
          "output_type": "display_data",
          "data": {
            "text/plain": [
              "<Figure size 640x480 with 1 Axes>"
            ],
            "image/png": "[encoded data removed]"
          },
          "metadata": {}
        }
      ]
    },
    {
      "cell_type": "code",
      "source": [
        "y==X+10"
      ],
      "metadata": {
        "colab": {
          "base_uri": "https://localhost:8080/"
        },
        "id": "7yNfWqkEAOV-",
        "outputId": "fb160512-974c-43ae-df17-8e2489060268"
      },
      "execution_count": null,
      "outputs": [
        {
          "output_type": "execute_result",
          "data": {
            "text/plain": [
              "array([ True,  True,  True,  True,  True,  True,  True,  True])"
            ]
          },
          "metadata": {},
          "execution_count": 4
        }
      ]
    },
    {
      "cell_type": "code",
      "source": [
        "house_info=tf.constant(['bedroom','bathroom','garage'])\n",
        "house_price=tf.constant([9876598])\n",
        "house_info,house_price"
      ],
      "metadata": {
        "colab": {
          "base_uri": "https://localhost:8080/"
        },
        "id": "exlJEhBwAQ4d",
        "outputId": "41882236-df10-45d4-b19a-3aaa92c7ffb8"
      },
      "execution_count": null,
      "outputs": [
        {
          "output_type": "execute_result",
          "data": {
            "text/plain": [
              "(<tf.Tensor: shape=(3,), dtype=string, numpy=array([b'bedroom', b'bathroom', b'garage'], dtype=object)>,\n",
              " <tf.Tensor: shape=(1,), dtype=int32, numpy=array([9876598], dtype=int32)>)"
            ]
          },
          "metadata": {},
          "execution_count": 5
        }
      ]
    },
    {
      "cell_type": "code",
      "source": [
        "X=tf.constant(X)\n",
        "y=tf.constant(y)\n",
        "X,y"
      ],
      "metadata": {
        "colab": {
          "base_uri": "https://localhost:8080/"
        },
        "id": "qZqxWw-UCc_e",
        "outputId": "1f1d64c7-ff17-4964-d1a9-112636871cb0"
      },
      "execution_count": null,
      "outputs": [
        {
          "output_type": "execute_result",
          "data": {
            "text/plain": [
              "(<tf.Tensor: shape=(8,), dtype=float64, numpy=array([-7., -4., -1.,  2.,  5.,  8., 11., 14.])>,\n",
              " <tf.Tensor: shape=(8,), dtype=float64, numpy=array([ 3.,  6.,  9., 12., 15., 18., 21., 24.])>)"
            ]
          },
          "metadata": {},
          "execution_count": 6
        }
      ]
    },
    {
      "cell_type": "markdown",
      "source": [
        "# **Modelling in TensorFlow**"
      ],
      "metadata": {
        "id": "6LCpuhvkDabb"
      }
    },
    {
      "cell_type": "code",
      "source": [
        "tf.random.set_seed(42)\n",
        "\n",
        "#1. Create model\n",
        "model=tf.keras.Sequential([\n",
        "    tf.keras.layers.Dense(1)\n",
        "])\n",
        "\n",
        "#2. compile the model\n",
        "model.compile(loss=tf.keras.losses.mae,\n",
        "              optimizer=tf.keras.optimizers.SGD(),\n",
        "              metrics=[\"mae\"])\n",
        "\n",
        "X_reshaped = tf.reshape(X, shape=(-1, 1))\n",
        "model.fit(X_reshaped, y, epochs=5)"
      ],
      "metadata": {
        "colab": {
          "base_uri": "https://localhost:8080/"
        },
        "id": "tzcVfiy7DKDM",
        "outputId": "ee907f1d-00f0-469e-daaa-8a2d3f09959a"
      },
      "execution_count": null,
      "outputs": [
        {
          "output_type": "stream",
          "name": "stdout",
          "text": [
            "Epoch 1/5\n",
            "1/1 [==============================] - 0s 338ms/step - loss: 12.4116 - mae: 12.4116\n",
            "Epoch 2/5\n",
            "1/1 [==============================] - 0s 6ms/step - loss: 12.2791 - mae: 12.2791\n",
            "Epoch 3/5\n",
            "1/1 [==============================] - 0s 6ms/step - loss: 12.1466 - mae: 12.1466\n",
            "Epoch 4/5\n",
            "1/1 [==============================] - 0s 6ms/step - loss: 12.0141 - mae: 12.0141\n",
            "Epoch 5/5\n",
            "1/1 [==============================] - 0s 6ms/step - loss: 11.8816 - mae: 11.8816\n"
          ]
        },
        {
          "output_type": "execute_result",
          "data": {
            "text/plain": [
              "<keras.src.callbacks.History at 0x7826c4618d60>"
            ]
          },
          "metadata": {},
          "execution_count": 7
        }
      ]
    },
    {
      "cell_type": "code",
      "source": [
        "y_pred=model.predict([17.0])\n",
        "y_pred"
      ],
      "metadata": {
        "colab": {
          "base_uri": "https://localhost:8080/"
        },
        "id": "w1EbVZ3cFhMB",
        "outputId": "d1a9da39-0561-44bc-eec2-41ed8fbad74f"
      },
      "execution_count": null,
      "outputs": [
        {
          "output_type": "stream",
          "name": "stdout",
          "text": [
            "1/1 [==============================] - 0s 75ms/step\n"
          ]
        },
        {
          "output_type": "execute_result",
          "data": {
            "text/plain": [
              "array([[8.311404]], dtype=float32)"
            ]
          },
          "metadata": {},
          "execution_count": 8
        }
      ]
    },
    {
      "cell_type": "markdown",
      "source": [
        "# **Improving the Model**"
      ],
      "metadata": {
        "id": "tgIKaDtCJivF"
      }
    },
    {
      "cell_type": "code",
      "source": [
        "model=tf.keras.Sequential([\n",
        "    tf.keras.layers.Dense(100,activation=\"relu\"),\n",
        "    tf.keras.layers.Dense(1)\n",
        "])\n",
        "\n",
        "model.compile(loss=tf.keras.losses.mae,\n",
        "              optimizer=tf.keras.optimizers.Adam(lr=0.01),\n",
        "              metrics=\"mae\")\n",
        "\n",
        "X_reshaped = tf.reshape(X, shape=(-1, 1))\n",
        "model.fit(X_reshaped, y, epochs=100)"
      ],
      "metadata": {
        "colab": {
          "base_uri": "https://localhost:8080/"
        },
        "id": "FIsarzvFJFbj",
        "outputId": "ab41f7ed-dec2-4d5d-a6a5-ff6aa2087a79"
      },
      "execution_count": null,
      "outputs": [
        {
          "output_type": "stream",
          "name": "stderr",
          "text": [
            "WARNING:absl:`lr` is deprecated in Keras optimizer, please use `learning_rate` or use the legacy optimizer, e.g.,tf.keras.optimizers.legacy.Adam.\n"
          ]
        },
        {
          "output_type": "stream",
          "name": "stdout",
          "text": [
            "Epoch 1/100\n",
            "1/1 [==============================] - 0s 402ms/step - loss: 12.9409 - mae: 12.9409\n",
            "Epoch 2/100\n",
            "1/1 [==============================] - 0s 5ms/step - loss: 12.8496 - mae: 12.8496\n",
            "Epoch 3/100\n",
            "1/1 [==============================] - 0s 6ms/step - loss: 12.7583 - mae: 12.7583\n",
            "Epoch 4/100\n",
            "1/1 [==============================] - 0s 6ms/step - loss: 12.6671 - mae: 12.6671\n",
            "Epoch 5/100\n",
            "1/1 [==============================] - 0s 6ms/step - loss: 12.5775 - mae: 12.5775\n",
            "Epoch 6/100\n",
            "1/1 [==============================] - 0s 7ms/step - loss: 12.4877 - mae: 12.4877\n",
            "Epoch 7/100\n",
            "1/1 [==============================] - 0s 6ms/step - loss: 12.3979 - mae: 12.3979\n",
            "Epoch 8/100\n",
            "1/1 [==============================] - 0s 7ms/step - loss: 12.3080 - mae: 12.3080\n",
            "Epoch 9/100\n",
            "1/1 [==============================] - 0s 6ms/step - loss: 12.2184 - mae: 12.2184\n",
            "Epoch 10/100\n",
            "1/1 [==============================] - 0s 7ms/step - loss: 12.1290 - mae: 12.1290\n",
            "Epoch 11/100\n",
            "1/1 [==============================] - 0s 7ms/step - loss: 12.0395 - mae: 12.0395\n",
            "Epoch 12/100\n",
            "1/1 [==============================] - 0s 6ms/step - loss: 11.9499 - mae: 11.9499\n",
            "Epoch 13/100\n",
            "1/1 [==============================] - 0s 7ms/step - loss: 11.8602 - mae: 11.8602\n",
            "Epoch 14/100\n",
            "1/1 [==============================] - 0s 7ms/step - loss: 11.7702 - mae: 11.7702\n",
            "Epoch 15/100\n",
            "1/1 [==============================] - 0s 7ms/step - loss: 11.6801 - mae: 11.6801\n",
            "Epoch 16/100\n",
            "1/1 [==============================] - 0s 6ms/step - loss: 11.5897 - mae: 11.5897\n",
            "Epoch 17/100\n",
            "1/1 [==============================] - 0s 6ms/step - loss: 11.4990 - mae: 11.4990\n",
            "Epoch 18/100\n",
            "1/1 [==============================] - 0s 6ms/step - loss: 11.4081 - mae: 11.4081\n",
            "Epoch 19/100\n",
            "1/1 [==============================] - 0s 6ms/step - loss: 11.3170 - mae: 11.3170\n",
            "Epoch 20/100\n",
            "1/1 [==============================] - 0s 6ms/step - loss: 11.2257 - mae: 11.2257\n",
            "Epoch 21/100\n",
            "1/1 [==============================] - 0s 6ms/step - loss: 11.1342 - mae: 11.1342\n",
            "Epoch 22/100\n",
            "1/1 [==============================] - 0s 7ms/step - loss: 11.0424 - mae: 11.0424\n",
            "Epoch 23/100\n",
            "1/1 [==============================] - 0s 5ms/step - loss: 10.9503 - mae: 10.9503\n",
            "Epoch 24/100\n",
            "1/1 [==============================] - 0s 6ms/step - loss: 10.8581 - mae: 10.8581\n",
            "Epoch 25/100\n",
            "1/1 [==============================] - 0s 7ms/step - loss: 10.7655 - mae: 10.7655\n",
            "Epoch 26/100\n",
            "1/1 [==============================] - 0s 7ms/step - loss: 10.6726 - mae: 10.6726\n",
            "Epoch 27/100\n",
            "1/1 [==============================] - 0s 7ms/step - loss: 10.5795 - mae: 10.5795\n",
            "Epoch 28/100\n",
            "1/1 [==============================] - 0s 6ms/step - loss: 10.4860 - mae: 10.4860\n",
            "Epoch 29/100\n",
            "1/1 [==============================] - 0s 8ms/step - loss: 10.3923 - mae: 10.3923\n",
            "Epoch 30/100\n",
            "1/1 [==============================] - 0s 6ms/step - loss: 10.2983 - mae: 10.2983\n",
            "Epoch 31/100\n",
            "1/1 [==============================] - 0s 6ms/step - loss: 10.2042 - mae: 10.2042\n",
            "Epoch 32/100\n",
            "1/1 [==============================] - 0s 6ms/step - loss: 10.1099 - mae: 10.1099\n",
            "Epoch 33/100\n",
            "1/1 [==============================] - 0s 6ms/step - loss: 10.0156 - mae: 10.0156\n",
            "Epoch 34/100\n",
            "1/1 [==============================] - 0s 6ms/step - loss: 9.9210 - mae: 9.9210\n",
            "Epoch 35/100\n",
            "1/1 [==============================] - 0s 7ms/step - loss: 9.8260 - mae: 9.8260\n",
            "Epoch 36/100\n",
            "1/1 [==============================] - 0s 7ms/step - loss: 9.7306 - mae: 9.7306\n",
            "Epoch 37/100\n",
            "1/1 [==============================] - 0s 5ms/step - loss: 9.6348 - mae: 9.6348\n",
            "Epoch 38/100\n",
            "1/1 [==============================] - 0s 7ms/step - loss: 9.5388 - mae: 9.5388\n",
            "Epoch 39/100\n",
            "1/1 [==============================] - 0s 6ms/step - loss: 9.4423 - mae: 9.4423\n",
            "Epoch 40/100\n",
            "1/1 [==============================] - 0s 6ms/step - loss: 9.3454 - mae: 9.3454\n",
            "Epoch 41/100\n",
            "1/1 [==============================] - 0s 6ms/step - loss: 9.2483 - mae: 9.2483\n",
            "Epoch 42/100\n",
            "1/1 [==============================] - 0s 7ms/step - loss: 9.1510 - mae: 9.1510\n",
            "Epoch 43/100\n",
            "1/1 [==============================] - 0s 7ms/step - loss: 9.0539 - mae: 9.0539\n",
            "Epoch 44/100\n",
            "1/1 [==============================] - 0s 5ms/step - loss: 8.9563 - mae: 8.9563\n",
            "Epoch 45/100\n",
            "1/1 [==============================] - 0s 7ms/step - loss: 8.8677 - mae: 8.8677\n",
            "Epoch 46/100\n",
            "1/1 [==============================] - 0s 6ms/step - loss: 8.7877 - mae: 8.7877\n",
            "Epoch 47/100\n",
            "1/1 [==============================] - 0s 7ms/step - loss: 8.7071 - mae: 8.7071\n",
            "Epoch 48/100\n",
            "1/1 [==============================] - 0s 6ms/step - loss: 8.6260 - mae: 8.6260\n",
            "Epoch 49/100\n",
            "1/1 [==============================] - 0s 7ms/step - loss: 8.5441 - mae: 8.5441\n",
            "Epoch 50/100\n",
            "1/1 [==============================] - 0s 7ms/step - loss: 8.4615 - mae: 8.4615\n",
            "Epoch 51/100\n",
            "1/1 [==============================] - 0s 6ms/step - loss: 8.3781 - mae: 8.3781\n",
            "Epoch 52/100\n",
            "1/1 [==============================] - 0s 7ms/step - loss: 8.2939 - mae: 8.2939\n",
            "Epoch 53/100\n",
            "1/1 [==============================] - 0s 6ms/step - loss: 8.2091 - mae: 8.2091\n",
            "Epoch 54/100\n",
            "1/1 [==============================] - 0s 6ms/step - loss: 8.1235 - mae: 8.1235\n",
            "Epoch 55/100\n",
            "1/1 [==============================] - 0s 7ms/step - loss: 8.0372 - mae: 8.0372\n",
            "Epoch 56/100\n",
            "1/1 [==============================] - 0s 7ms/step - loss: 7.9501 - mae: 7.9501\n",
            "Epoch 57/100\n",
            "1/1 [==============================] - 0s 6ms/step - loss: 7.8623 - mae: 7.8623\n",
            "Epoch 58/100\n",
            "1/1 [==============================] - 0s 6ms/step - loss: 7.7738 - mae: 7.7738\n",
            "Epoch 59/100\n",
            "1/1 [==============================] - 0s 6ms/step - loss: 7.6846 - mae: 7.6846\n",
            "Epoch 60/100\n",
            "1/1 [==============================] - 0s 6ms/step - loss: 7.5947 - mae: 7.5947\n",
            "Epoch 61/100\n",
            "1/1 [==============================] - 0s 6ms/step - loss: 7.5040 - mae: 7.5040\n",
            "Epoch 62/100\n",
            "1/1 [==============================] - 0s 5ms/step - loss: 7.4126 - mae: 7.4126\n",
            "Epoch 63/100\n",
            "1/1 [==============================] - 0s 5ms/step - loss: 7.3204 - mae: 7.3204\n",
            "Epoch 64/100\n",
            "1/1 [==============================] - 0s 6ms/step - loss: 7.2275 - mae: 7.2275\n",
            "Epoch 65/100\n",
            "1/1 [==============================] - 0s 10ms/step - loss: 7.1339 - mae: 7.1339\n",
            "Epoch 66/100\n",
            "1/1 [==============================] - 0s 8ms/step - loss: 7.0395 - mae: 7.0395\n",
            "Epoch 67/100\n",
            "1/1 [==============================] - 0s 9ms/step - loss: 6.9444 - mae: 6.9444\n",
            "Epoch 68/100\n",
            "1/1 [==============================] - 0s 6ms/step - loss: 6.8486 - mae: 6.8486\n",
            "Epoch 69/100\n",
            "1/1 [==============================] - 0s 7ms/step - loss: 6.7520 - mae: 6.7520\n",
            "Epoch 70/100\n",
            "1/1 [==============================] - 0s 7ms/step - loss: 6.6547 - mae: 6.6547\n",
            "Epoch 71/100\n",
            "1/1 [==============================] - 0s 6ms/step - loss: 6.5566 - mae: 6.5566\n",
            "Epoch 72/100\n",
            "1/1 [==============================] - 0s 5ms/step - loss: 6.4577 - mae: 6.4577\n",
            "Epoch 73/100\n",
            "1/1 [==============================] - 0s 5ms/step - loss: 6.3581 - mae: 6.3581\n",
            "Epoch 74/100\n",
            "1/1 [==============================] - 0s 5ms/step - loss: 6.2577 - mae: 6.2577\n",
            "Epoch 75/100\n",
            "1/1 [==============================] - 0s 5ms/step - loss: 6.1565 - mae: 6.1565\n",
            "Epoch 76/100\n",
            "1/1 [==============================] - 0s 8ms/step - loss: 6.0546 - mae: 6.0546\n",
            "Epoch 77/100\n",
            "1/1 [==============================] - 0s 6ms/step - loss: 5.9519 - mae: 5.9519\n",
            "Epoch 78/100\n",
            "1/1 [==============================] - 0s 5ms/step - loss: 5.8484 - mae: 5.8484\n",
            "Epoch 79/100\n",
            "1/1 [==============================] - 0s 6ms/step - loss: 5.7441 - mae: 5.7441\n",
            "Epoch 80/100\n",
            "1/1 [==============================] - 0s 6ms/step - loss: 5.6391 - mae: 5.6391\n",
            "Epoch 81/100\n",
            "1/1 [==============================] - 0s 7ms/step - loss: 5.5332 - mae: 5.5332\n",
            "Epoch 82/100\n",
            "1/1 [==============================] - 0s 7ms/step - loss: 5.4265 - mae: 5.4265\n",
            "Epoch 83/100\n",
            "1/1 [==============================] - 0s 7ms/step - loss: 5.3190 - mae: 5.3190\n",
            "Epoch 84/100\n",
            "1/1 [==============================] - 0s 7ms/step - loss: 5.2107 - mae: 5.2107\n",
            "Epoch 85/100\n",
            "1/1 [==============================] - 0s 8ms/step - loss: 5.1016 - mae: 5.1016\n",
            "Epoch 86/100\n",
            "1/1 [==============================] - 0s 7ms/step - loss: 4.9917 - mae: 4.9917\n",
            "Epoch 87/100\n",
            "1/1 [==============================] - 0s 9ms/step - loss: 4.8809 - mae: 4.8809\n",
            "Epoch 88/100\n",
            "1/1 [==============================] - 0s 7ms/step - loss: 4.7693 - mae: 4.7693\n",
            "Epoch 89/100\n",
            "1/1 [==============================] - 0s 8ms/step - loss: 4.6569 - mae: 4.6569\n",
            "Epoch 90/100\n",
            "1/1 [==============================] - 0s 6ms/step - loss: 4.5436 - mae: 4.5436\n",
            "Epoch 91/100\n",
            "1/1 [==============================] - 0s 6ms/step - loss: 4.4295 - mae: 4.4295\n",
            "Epoch 92/100\n",
            "1/1 [==============================] - 0s 7ms/step - loss: 4.3146 - mae: 4.3146\n",
            "Epoch 93/100\n",
            "1/1 [==============================] - 0s 7ms/step - loss: 4.1988 - mae: 4.1988\n",
            "Epoch 94/100\n",
            "1/1 [==============================] - 0s 8ms/step - loss: 4.0821 - mae: 4.0821\n",
            "Epoch 95/100\n",
            "1/1 [==============================] - 0s 7ms/step - loss: 3.9763 - mae: 3.9763\n",
            "Epoch 96/100\n",
            "1/1 [==============================] - 0s 6ms/step - loss: 3.9396 - mae: 3.9396\n",
            "Epoch 97/100\n",
            "1/1 [==============================] - 0s 6ms/step - loss: 3.9049 - mae: 3.9049\n",
            "Epoch 98/100\n",
            "1/1 [==============================] - 0s 8ms/step - loss: 3.8719 - mae: 3.8719\n",
            "Epoch 99/100\n",
            "1/1 [==============================] - 0s 6ms/step - loss: 3.8404 - mae: 3.8404\n",
            "Epoch 100/100\n",
            "1/1 [==============================] - 0s 6ms/step - loss: 3.8102 - mae: 3.8102\n"
          ]
        },
        {
          "output_type": "execute_result",
          "data": {
            "text/plain": [
              "<keras.src.callbacks.History at 0x7826c4425c30>"
            ]
          },
          "metadata": {},
          "execution_count": 9
        }
      ]
    },
    {
      "cell_type": "code",
      "source": [
        "model.predict([17.0])"
      ],
      "metadata": {
        "colab": {
          "base_uri": "https://localhost:8080/"
        },
        "id": "SYf1FdJQKQIk",
        "outputId": "13d2b379-ee50-4256-e37b-55e4d3bc5059"
      },
      "execution_count": null,
      "outputs": [
        {
          "output_type": "stream",
          "name": "stdout",
          "text": [
            "1/1 [==============================] - 0s 48ms/step\n"
          ]
        },
        {
          "output_type": "execute_result",
          "data": {
            "text/plain": [
              "array([[30.886047]], dtype=float32)"
            ]
          },
          "metadata": {},
          "execution_count": 10
        }
      ]
    },
    {
      "cell_type": "markdown",
      "source": [
        "# **Evaluting a Model**"
      ],
      "metadata": {
        "id": "imRCbCeVSQTa"
      }
    },
    {
      "cell_type": "code",
      "source": [
        "X=tf.range(-100,100,4)\n",
        "X"
      ],
      "metadata": {
        "id": "dKUZRZWiKxYt",
        "colab": {
          "base_uri": "https://localhost:8080/"
        },
        "outputId": "5ca87754-0f62-4fc2-d5b2-a0d548467536"
      },
      "execution_count": null,
      "outputs": [
        {
          "output_type": "execute_result",
          "data": {
            "text/plain": [
              "<tf.Tensor: shape=(50,), dtype=int32, numpy=\n",
              "array([-100,  -96,  -92,  -88,  -84,  -80,  -76,  -72,  -68,  -64,  -60,\n",
              "        -56,  -52,  -48,  -44,  -40,  -36,  -32,  -28,  -24,  -20,  -16,\n",
              "        -12,   -8,   -4,    0,    4,    8,   12,   16,   20,   24,   28,\n",
              "         32,   36,   40,   44,   48,   52,   56,   60,   64,   68,   72,\n",
              "         76,   80,   84,   88,   92,   96], dtype=int32)>"
            ]
          },
          "metadata": {},
          "execution_count": 11
        }
      ]
    },
    {
      "cell_type": "code",
      "source": [
        "y=X+10\n",
        "y"
      ],
      "metadata": {
        "colab": {
          "base_uri": "https://localhost:8080/"
        },
        "id": "0SBjWeoPSdy4",
        "outputId": "f30bdc9b-c54e-4088-aab3-53d3ba62b36e"
      },
      "execution_count": null,
      "outputs": [
        {
          "output_type": "execute_result",
          "data": {
            "text/plain": [
              "<tf.Tensor: shape=(50,), dtype=int32, numpy=\n",
              "array([-90, -86, -82, -78, -74, -70, -66, -62, -58, -54, -50, -46, -42,\n",
              "       -38, -34, -30, -26, -22, -18, -14, -10,  -6,  -2,   2,   6,  10,\n",
              "        14,  18,  22,  26,  30,  34,  38,  42,  46,  50,  54,  58,  62,\n",
              "        66,  70,  74,  78,  82,  86,  90,  94,  98, 102, 106], dtype=int32)>"
            ]
          },
          "metadata": {},
          "execution_count": 12
        }
      ]
    },
    {
      "cell_type": "code",
      "source": [
        "plt.plot(X,y)"
      ],
      "metadata": {
        "colab": {
          "base_uri": "https://localhost:8080/",
          "height": 448
        },
        "id": "CA9c6nVTSnON",
        "outputId": "71e903a3-5ccc-4972-8353-b21030376d67"
      },
      "execution_count": null,
      "outputs": [
        {
          "output_type": "execute_result",
          "data": {
            "text/plain": [
              "[<matplotlib.lines.Line2D at 0x7826c431ed40>]"
            ]
          },
          "metadata": {},
          "execution_count": 13
        },
        {
          "output_type": "display_data",
          "data": {
            "text/plain": [
              "<Figure size 640x480 with 1 Axes>"
            ],
            "image/png": "[encoded data removed]"
          },
          "metadata": {}
        }
      ]
    },
    {
      "cell_type": "code",
      "source": [
        "X_train=X[:40]\n",
        "y_train=y[:40]\n",
        "\n",
        "X_test=X[40:]\n",
        "y_test=y[40:]"
      ],
      "metadata": {
        "id": "h_faTmHeSvt9"
      },
      "execution_count": null,
      "outputs": []
    },
    {
      "cell_type": "code",
      "source": [
        "model=tf.keras.Sequential([\n",
        "    tf.keras.layers.Dense(1)\n",
        "])\n",
        "\n",
        "model.compile(loss=\"mae\", optimizer=\"sgd\",metrics=[\"mae\"])\n",
        "\n",
        "#model.fit(X_train,y_train,epochs=100)"
      ],
      "metadata": {
        "id": "K-ZT9xPHXjW8"
      },
      "execution_count": null,
      "outputs": []
    },
    {
      "cell_type": "code",
      "source": [
        "tf.random.set_seed(42)\n",
        "\n",
        "model=tf.keras.Sequential([\n",
        "    tf.keras.layers.Dense(10,input_shape=[1],name=\"Input\"),\n",
        "    tf.keras.layers.Dense(5,activation=\"relu\"),\n",
        "    tf.keras.layers.Dense(1,name=\"Output\")\n",
        "])\n",
        "\n",
        "model.compile(loss=\"mae\",optimizer=tf.keras.optimizers.Adam(lr=0.001),metrics=[\"mae\"])\n"
      ],
      "metadata": {
        "id": "XLe1ZypuYbEy",
        "colab": {
          "base_uri": "https://localhost:8080/"
        },
        "outputId": "c1e1740d-ac96-4b80-b1af-e4e122d88883"
      },
      "execution_count": null,
      "outputs": [
        {
          "output_type": "stream",
          "name": "stderr",
          "text": [
            "WARNING:absl:`lr` is deprecated in Keras optimizer, please use `learning_rate` or use the legacy optimizer, e.g.,tf.keras.optimizers.legacy.Adam.\n"
          ]
        }
      ]
    },
    {
      "cell_type": "code",
      "source": [
        "model.summary()"
      ],
      "metadata": {
        "colab": {
          "base_uri": "https://localhost:8080/"
        },
        "id": "xlxLVt1SZTqC",
        "outputId": "51582129-a3b9-4797-93ce-e16fae62ae51"
      },
      "execution_count": null,
      "outputs": [
        {
          "output_type": "stream",
          "name": "stdout",
          "text": [
            "Model: \"sequential_8\"\n",
            "_________________________________________________________________\n",
            " Layer (type)                Output Shape              Param #   \n",
            "=================================================================\n",
            " Input (Dense)               (None, 10)                20        \n",
            "                                                                 \n",
            " dense_5 (Dense)             (None, 5)                 55        \n",
            "                                                                 \n",
            " Output (Dense)              (None, 1)                 6         \n",
            "                                                                 \n",
            "=================================================================\n",
            "Total params: 81 (324.00 Byte)\n",
            "Trainable params: 81 (324.00 Byte)\n",
            "Non-trainable params: 0 (0.00 Byte)\n",
            "_________________________________________________________________\n"
          ]
        }
      ]
    },
    {
      "cell_type": "code",
      "source": [
        "model.fit(X_train,y_train,epochs=100,verbose=1)"
      ],
      "metadata": {
        "colab": {
          "base_uri": "https://localhost:8080/"
        },
        "id": "pU-T1P42dUy6",
        "outputId": "a9b3847d-1326-4754-8314-d3417440a5cf"
      },
      "execution_count": null,
      "outputs": [
        {
          "output_type": "stream",
          "name": "stdout",
          "text": [
            "Epoch 1/100\n",
            "2/2 [==============================] - 0s 7ms/step - loss: 33.4543 - mae: 33.4543\n",
            "Epoch 2/100\n",
            "2/2 [==============================] - 0s 4ms/step - loss: 32.8547 - mae: 32.8547\n",
            "Epoch 3/100\n",
            "2/2 [==============================] - 0s 4ms/step - loss: 32.3646 - mae: 32.3646\n",
            "Epoch 4/100\n",
            "2/2 [==============================] - 0s 4ms/step - loss: 31.9044 - mae: 31.9044\n",
            "Epoch 5/100\n",
            "2/2 [==============================] - 0s 4ms/step - loss: 31.4968 - mae: 31.4968\n",
            "Epoch 6/100\n",
            "2/2 [==============================] - 0s 7ms/step - loss: 31.0681 - mae: 31.0681\n",
            "Epoch 7/100\n",
            "2/2 [==============================] - 0s 5ms/step - loss: 30.6663 - mae: 30.6663\n",
            "Epoch 8/100\n",
            "2/2 [==============================] - 0s 5ms/step - loss: 30.2278 - mae: 30.2278\n",
            "Epoch 9/100\n",
            "2/2 [==============================] - 0s 5ms/step - loss: 29.8498 - mae: 29.8498\n",
            "Epoch 10/100\n",
            "2/2 [==============================] - 0s 5ms/step - loss: 29.4585 - mae: 29.4585\n",
            "Epoch 11/100\n",
            "2/2 [==============================] - 0s 5ms/step - loss: 29.0122 - mae: 29.0122\n",
            "Epoch 12/100\n",
            "2/2 [==============================] - 0s 6ms/step - loss: 28.6321 - mae: 28.6321\n",
            "Epoch 13/100\n",
            "2/2 [==============================] - 0s 5ms/step - loss: 28.2649 - mae: 28.2649\n",
            "Epoch 14/100\n",
            "2/2 [==============================] - 0s 4ms/step - loss: 28.2945 - mae: 28.2945\n",
            "Epoch 15/100\n",
            "2/2 [==============================] - 0s 6ms/step - loss: 28.2874 - mae: 28.2874\n",
            "Epoch 16/100\n",
            "2/2 [==============================] - 0s 8ms/step - loss: 28.2817 - mae: 28.2817\n",
            "Epoch 17/100\n",
            "2/2 [==============================] - 0s 5ms/step - loss: 28.2693 - mae: 28.2693\n",
            "Epoch 18/100\n",
            "2/2 [==============================] - 0s 5ms/step - loss: 28.2584 - mae: 28.2584\n",
            "Epoch 19/100\n",
            "2/2 [==============================] - 0s 7ms/step - loss: 28.2586 - mae: 28.2586\n",
            "Epoch 20/100\n",
            "2/2 [==============================] - 0s 5ms/step - loss: 28.2639 - mae: 28.2639\n",
            "Epoch 21/100\n",
            "2/2 [==============================] - 0s 5ms/step - loss: 28.2882 - mae: 28.2882\n",
            "Epoch 22/100\n",
            "2/2 [==============================] - 0s 5ms/step - loss: 28.2700 - mae: 28.2700\n",
            "Epoch 23/100\n",
            "2/2 [==============================] - 0s 5ms/step - loss: 28.2515 - mae: 28.2515\n",
            "Epoch 24/100\n",
            "2/2 [==============================] - 0s 5ms/step - loss: 28.2450 - mae: 28.2450\n",
            "Epoch 25/100\n",
            "2/2 [==============================] - 0s 5ms/step - loss: 28.2499 - mae: 28.2499\n",
            "Epoch 26/100\n",
            "2/2 [==============================] - 0s 5ms/step - loss: 28.2669 - mae: 28.2669\n",
            "Epoch 27/100\n",
            "2/2 [==============================] - 0s 5ms/step - loss: 28.2819 - mae: 28.2819\n",
            "Epoch 28/100\n",
            "2/2 [==============================] - 0s 5ms/step - loss: 28.2812 - mae: 28.2812\n",
            "Epoch 29/100\n",
            "2/2 [==============================] - 0s 5ms/step - loss: 28.2675 - mae: 28.2675\n",
            "Epoch 30/100\n",
            "2/2 [==============================] - 0s 7ms/step - loss: 28.2469 - mae: 28.2469\n",
            "Epoch 31/100\n",
            "2/2 [==============================] - 0s 5ms/step - loss: 28.2325 - mae: 28.2325\n",
            "Epoch 32/100\n",
            "2/2 [==============================] - 0s 5ms/step - loss: 28.2233 - mae: 28.2233\n",
            "Epoch 33/100\n",
            "2/2 [==============================] - 0s 5ms/step - loss: 28.2279 - mae: 28.2279\n",
            "Epoch 34/100\n",
            "2/2 [==============================] - 0s 5ms/step - loss: 28.2215 - mae: 28.2215\n",
            "Epoch 35/100\n",
            "2/2 [==============================] - 0s 5ms/step - loss: 28.2180 - mae: 28.2180\n",
            "Epoch 36/100\n",
            "2/2 [==============================] - 0s 5ms/step - loss: 28.2151 - mae: 28.2151\n",
            "Epoch 37/100\n",
            "2/2 [==============================] - 0s 5ms/step - loss: 28.2111 - mae: 28.2111\n",
            "Epoch 38/100\n",
            "2/2 [==============================] - 0s 5ms/step - loss: 28.2072 - mae: 28.2072\n",
            "Epoch 39/100\n",
            "2/2 [==============================] - 0s 6ms/step - loss: 28.2010 - mae: 28.2010\n",
            "Epoch 40/100\n",
            "2/2 [==============================] - 0s 6ms/step - loss: 28.1918 - mae: 28.1918\n",
            "Epoch 41/100\n",
            "2/2 [==============================] - 0s 5ms/step - loss: 28.2076 - mae: 28.2076\n",
            "Epoch 42/100\n",
            "2/2 [==============================] - 0s 4ms/step - loss: 28.2148 - mae: 28.2148\n",
            "Epoch 43/100\n",
            "2/2 [==============================] - 0s 9ms/step - loss: 28.2280 - mae: 28.2280\n",
            "Epoch 44/100\n",
            "2/2 [==============================] - 0s 7ms/step - loss: 28.2359 - mae: 28.2359\n",
            "Epoch 45/100\n",
            "2/2 [==============================] - 0s 6ms/step - loss: 28.2232 - mae: 28.2232\n",
            "Epoch 46/100\n",
            "2/2 [==============================] - 0s 5ms/step - loss: 28.2133 - mae: 28.2133\n",
            "Epoch 47/100\n",
            "2/2 [==============================] - 0s 5ms/step - loss: 28.2007 - mae: 28.2007\n",
            "Epoch 48/100\n",
            "2/2 [==============================] - 0s 6ms/step - loss: 28.1940 - mae: 28.1940\n",
            "Epoch 49/100\n",
            "2/2 [==============================] - 0s 5ms/step - loss: 28.1862 - mae: 28.1862\n",
            "Epoch 50/100\n",
            "2/2 [==============================] - 0s 5ms/step - loss: 28.1766 - mae: 28.1766\n",
            "Epoch 51/100\n",
            "2/2 [==============================] - 0s 6ms/step - loss: 28.1688 - mae: 28.1688\n",
            "Epoch 52/100\n",
            "2/2 [==============================] - 0s 6ms/step - loss: 28.1678 - mae: 28.1678\n",
            "Epoch 53/100\n",
            "2/2 [==============================] - 0s 6ms/step - loss: 28.1657 - mae: 28.1657\n",
            "Epoch 54/100\n",
            "2/2 [==============================] - 0s 6ms/step - loss: 28.1631 - mae: 28.1631\n",
            "Epoch 55/100\n",
            "2/2 [==============================] - 0s 6ms/step - loss: 28.1550 - mae: 28.1550\n",
            "Epoch 56/100\n",
            "2/2 [==============================] - 0s 7ms/step - loss: 28.1603 - mae: 28.1603\n",
            "Epoch 57/100\n",
            "2/2 [==============================] - 0s 6ms/step - loss: 28.1551 - mae: 28.1551\n",
            "Epoch 58/100\n",
            "2/2 [==============================] - 0s 7ms/step - loss: 28.1584 - mae: 28.1584\n",
            "Epoch 59/100\n",
            "2/2 [==============================] - 0s 7ms/step - loss: 28.1625 - mae: 28.1625\n",
            "Epoch 60/100\n",
            "2/2 [==============================] - 0s 7ms/step - loss: 28.1644 - mae: 28.1644\n",
            "Epoch 61/100\n",
            "2/2 [==============================] - 0s 6ms/step - loss: 28.1603 - mae: 28.1603\n",
            "Epoch 62/100\n",
            "2/2 [==============================] - 0s 7ms/step - loss: 28.1496 - mae: 28.1496\n",
            "Epoch 63/100\n",
            "2/2 [==============================] - 0s 7ms/step - loss: 28.1404 - mae: 28.1404\n",
            "Epoch 64/100\n",
            "2/2 [==============================] - 0s 7ms/step - loss: 28.1267 - mae: 28.1267\n",
            "Epoch 65/100\n",
            "2/2 [==============================] - 0s 7ms/step - loss: 28.1288 - mae: 28.1288\n",
            "Epoch 66/100\n",
            "2/2 [==============================] - 0s 6ms/step - loss: 28.1252 - mae: 28.1252\n",
            "Epoch 67/100\n",
            "2/2 [==============================] - 0s 6ms/step - loss: 28.1212 - mae: 28.1212\n",
            "Epoch 68/100\n",
            "2/2 [==============================] - 0s 6ms/step - loss: 28.1144 - mae: 28.1144\n",
            "Epoch 69/100\n",
            "2/2 [==============================] - 0s 5ms/step - loss: 28.1103 - mae: 28.1103\n",
            "Epoch 70/100\n",
            "2/2 [==============================] - 0s 6ms/step - loss: 28.1307 - mae: 28.1307\n",
            "Epoch 71/100\n",
            "2/2 [==============================] - 0s 4ms/step - loss: 28.1297 - mae: 28.1297\n",
            "Epoch 72/100\n",
            "2/2 [==============================] - 0s 5ms/step - loss: 28.1218 - mae: 28.1218\n",
            "Epoch 73/100\n",
            "2/2 [==============================] - 0s 5ms/step - loss: 28.1002 - mae: 28.1002\n",
            "Epoch 74/100\n",
            "2/2 [==============================] - 0s 5ms/step - loss: 28.0775 - mae: 28.0775\n",
            "Epoch 75/100\n",
            "2/2 [==============================] - 0s 6ms/step - loss: 28.0960 - mae: 28.0960\n",
            "Epoch 76/100\n",
            "2/2 [==============================] - 0s 5ms/step - loss: 28.1961 - mae: 28.1961\n",
            "Epoch 77/100\n",
            "2/2 [==============================] - 0s 6ms/step - loss: 28.2916 - mae: 28.2916\n",
            "Epoch 78/100\n",
            "2/2 [==============================] - 0s 5ms/step - loss: 28.3013 - mae: 28.3013\n",
            "Epoch 79/100\n",
            "2/2 [==============================] - 0s 5ms/step - loss: 28.2357 - mae: 28.2357\n",
            "Epoch 80/100\n",
            "2/2 [==============================] - 0s 5ms/step - loss: 28.1609 - mae: 28.1609\n",
            "Epoch 81/100\n",
            "2/2 [==============================] - 0s 5ms/step - loss: 28.0931 - mae: 28.0931\n",
            "Epoch 82/100\n",
            "2/2 [==============================] - 0s 8ms/step - loss: 28.0685 - mae: 28.0685\n",
            "Epoch 83/100\n",
            "2/2 [==============================] - 0s 5ms/step - loss: 28.0714 - mae: 28.0714\n",
            "Epoch 84/100\n",
            "2/2 [==============================] - 0s 5ms/step - loss: 28.1279 - mae: 28.1279\n",
            "Epoch 85/100\n",
            "2/2 [==============================] - 0s 5ms/step - loss: 28.1452 - mae: 28.1452\n",
            "Epoch 86/100\n",
            "2/2 [==============================] - 0s 6ms/step - loss: 28.1455 - mae: 28.1455\n",
            "Epoch 87/100\n",
            "2/2 [==============================] - 0s 5ms/step - loss: 28.1308 - mae: 28.1308\n",
            "Epoch 88/100\n",
            "2/2 [==============================] - 0s 6ms/step - loss: 28.1202 - mae: 28.1202\n",
            "Epoch 89/100\n",
            "2/2 [==============================] - 0s 6ms/step - loss: 28.0725 - mae: 28.0725\n",
            "Epoch 90/100\n",
            "2/2 [==============================] - 0s 6ms/step - loss: 28.0570 - mae: 28.0570\n",
            "Epoch 91/100\n",
            "2/2 [==============================] - 0s 6ms/step - loss: 28.0384 - mae: 28.0384\n",
            "Epoch 92/100\n",
            "2/2 [==============================] - 0s 8ms/step - loss: 28.0612 - mae: 28.0612\n",
            "Epoch 93/100\n",
            "2/2 [==============================] - 0s 5ms/step - loss: 28.0501 - mae: 28.0501\n",
            "Epoch 94/100\n",
            "2/2 [==============================] - 0s 5ms/step - loss: 28.0384 - mae: 28.0384\n",
            "Epoch 95/100\n",
            "2/2 [==============================] - 0s 4ms/step - loss: 28.0385 - mae: 28.0385\n",
            "Epoch 96/100\n",
            "2/2 [==============================] - 0s 5ms/step - loss: 28.0362 - mae: 28.0362\n",
            "Epoch 97/100\n",
            "2/2 [==============================] - 0s 5ms/step - loss: 28.0374 - mae: 28.0374\n",
            "Epoch 98/100\n",
            "2/2 [==============================] - 0s 5ms/step - loss: 28.0356 - mae: 28.0356\n",
            "Epoch 99/100\n",
            "2/2 [==============================] - 0s 5ms/step - loss: 28.0302 - mae: 28.0302\n",
            "Epoch 100/100\n",
            "2/2 [==============================] - 0s 5ms/step - loss: 28.0240 - mae: 28.0240\n"
          ]
        },
        {
          "output_type": "execute_result",
          "data": {
            "text/plain": [
              "<keras.src.callbacks.History at 0x7826bc803be0>"
            ]
          },
          "metadata": {},
          "execution_count": 65
        }
      ]
    },
    {
      "cell_type": "code",
      "source": [
        "from tensorflow.keras.utils import plot_model\n",
        "plot_model(model,show_shapes=True)"
      ],
      "metadata": {
        "colab": {
          "base_uri": "https://localhost:8080/",
          "height": 422
        },
        "id": "2tEvu-nldb3m",
        "outputId": "0713e092-05bb-4ac0-96e4-5a21576081dc"
      },
      "execution_count": null,
      "outputs": [
        {
          "output_type": "execute_result",
          "data": {
            "image/png": "[encoded data removed]",
            "text/plain": [
              "<IPython.core.display.Image object>"
            ]
          },
          "metadata": {},
          "execution_count": 66
        }
      ]
    },
    {
      "cell_type": "code",
      "source": [
        "y_pred=model.predict(X_test)\n",
        "y_pred"
      ],
      "metadata": {
        "id": "2tdn4fNcgNgL",
        "colab": {
          "base_uri": "https://localhost:8080/"
        },
        "outputId": "9c238283-f793-4991-eb90-fc05b52af034"
      },
      "execution_count": null,
      "outputs": [
        {
          "output_type": "stream",
          "name": "stdout",
          "text": [
            "1/1 [==============================] - 0s 56ms/step\n"
          ]
        },
        {
          "output_type": "execute_result",
          "data": {
            "text/plain": [
              "array([[ 74.46293 ],\n",
              "       [ 79.34921 ],\n",
              "       [ 84.23549 ],\n",
              "       [ 89.12176 ],\n",
              "       [ 94.00804 ],\n",
              "       [ 98.89432 ],\n",
              "       [103.78059 ],\n",
              "       [108.666855],\n",
              "       [113.55315 ],\n",
              "       [118.43939 ]], dtype=float32)"
            ]
          },
          "metadata": {},
          "execution_count": 67
        }
      ]
    },
    {
      "cell_type": "code",
      "source": [
        "y_test"
      ],
      "metadata": {
        "colab": {
          "base_uri": "https://localhost:8080/"
        },
        "id": "myA4dQ9tI4GF",
        "outputId": "42fb499c-2c3e-455a-aa9c-208a5638c400"
      },
      "execution_count": null,
      "outputs": [
        {
          "output_type": "execute_result",
          "data": {
            "text/plain": [
              "<tf.Tensor: shape=(10,), dtype=int32, numpy=array([ 70,  74,  78,  82,  86,  90,  94,  98, 102, 106], dtype=int32)>"
            ]
          },
          "metadata": {},
          "execution_count": 68
        }
      ]
    },
    {
      "cell_type": "code",
      "source": [
        "def plot_pred(train_data=X_train,train_labels=y_train,test_data=X_test,test_labels=y_test,prediction=y_pred):\n",
        "  plt.figure(figsize=(10,7))\n",
        "  plt.scatter(train_data,train_labels,c=\"b\")\n",
        "  plt.scatter(test_data,test_labels,c=\"g\",label=\"Train_data\")\n",
        "  plt.scatter(test_data,prediction,c=\"r\",label=\"Predictions\")\n",
        "  plt.legend()"
      ],
      "metadata": {
        "id": "hOBN3x8WJWYe"
      },
      "execution_count": null,
      "outputs": []
    },
    {
      "cell_type": "code",
      "source": [
        "plot_pred()"
      ],
      "metadata": {
        "colab": {
          "base_uri": "https://localhost:8080/",
          "height": 468
        },
        "id": "ef6nJmKIKdhE",
        "outputId": "6e802972-89df-40ee-d163-ab076900586b"
      },
      "execution_count": null,
      "outputs": [
        {
          "output_type": "display_data",
          "data": {
            "text/plain": [
              "<Figure size 1000x700 with 1 Axes>"
            ],
            "image/png": "[encoded data removed]"
          },
          "metadata": {}
        }
      ]
    },
    {
      "cell_type": "code",
      "source": [
        "model.evaluate(X_test,y_test)"
      ],
      "metadata": {
        "colab": {
          "base_uri": "https://localhost:8080/"
        },
        "id": "owT0pDN5KnNK",
        "outputId": "2b61ef9b-363f-4833-cfb9-31ad062e3740"
      },
      "execution_count": null,
      "outputs": [
        {
          "output_type": "stream",
          "name": "stdout",
          "text": [
            "1/1 [==============================] - 0s 187ms/step - loss: 8.4512 - mae: 8.4512\n"
          ]
        },
        {
          "output_type": "execute_result",
          "data": {
            "text/plain": [
              "[8.451171875, 8.451171875]"
            ]
          },
          "metadata": {},
          "execution_count": 71
        }
      ]
    },
    {
      "cell_type": "code",
      "source": [
        "mae=tf.metrics.mean_absolute_error(y_test,tf.squeeze(y_pred))\n",
        "mae"
      ],
      "metadata": {
        "colab": {
          "base_uri": "https://localhost:8080/"
        },
        "id": "-omWwMjbNyQK",
        "outputId": "ccd81e27-9649-4faf-99dd-804bb635e707"
      },
      "execution_count": null,
      "outputs": [
        {
          "output_type": "execute_result",
          "data": {
            "text/plain": [
              "<tf.Tensor: shape=(), dtype=float32, numpy=8.451173>"
            ]
          },
          "metadata": {},
          "execution_count": 72
        }
      ]
    },
    {
      "cell_type": "code",
      "source": [],
      "metadata": {
        "id": "xTKDozatOWzZ"
      },
      "execution_count": null,
      "outputs": []
    }
  ]
}